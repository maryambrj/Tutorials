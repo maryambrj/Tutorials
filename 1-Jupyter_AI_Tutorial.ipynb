{
 "cells": [
  {
   "cell_type": "markdown",
   "id": "70854ebc-bcd6-4b10-8eb6-be12bacc35b1",
   "metadata": {},
   "source": [
    "# How to use ChatGPT in Jupyter Notebook?\n",
    "\n",
    "This tutorial covers the use of OpenAI's API calls and provides an example of its integration with Jupyter AI.  \n",
    "[Jupyter AI](https://jupyter-ai.readthedocs.io/en/latest/) brings generative AI to Jupyter Notebooks or JupyterLab.\n",
    "\n",
    "### Step 1: [Get an OpenAI API key](https://www.howtogeek.com/885918/how-to-get-an-openai-api-key/#:~:text=Go%20to%20OpenAI%27s%20Platform%20website,generate%20a%20new%20API%20key.)  \n",
    "To begin, head to [OpenAI's official platform website](https://platform.openai.com). If you haven't already, create an account following the simple steps on the website. After that, you can enter the email address and password linked to your OpenAI account to sign in or log in with an existing Google or Microsoft account.\n",
    "\n",
    "Once you've created an account or have logged into an existing account, you'll see your name and your profile icon at the top-right corner of OpenAI's platform homepage.\n",
    "\n",
    "To get an API Key, click on your name in the top-right corner to bring up a dropdown menu. Then, click the `View API keys` option.\n",
    "\n",
    "\n",
    "#### Is an OpenAI API Key Free?\n",
    "\n",
    "You can create an OpenAI API key for free. New free trial users receive $5 (USD) worth of credit. However, this expires after three months. Once your credit has been used up or expires, you can enter billing information to continue using the API of your choice. Keep in mind that if you don't enter any billing information, you will still have login access but won't be able to make further API requests.\n",
    "\n",
    "\n",
    "### Step 2: [Jupyter AI Installation](https://www.youtube.com/watch?v=l2YU8QuXiTM)\n",
    "This is the link to the [documentation for Jupyter AI](https://jupyter-ai.readthedocs.io/en/latest/users/index.html#prerequisites). Let me quickly show you how to install it here.\n",
    "\n",
    "We begin with installing the prerequisites. If you use `conda`, you can install Python 3.11 in your environment by running:  \n",
    "`conda install python=3.11`  \n",
    "\n",
    "Then, install JupyterLab using `pip` or `conda`.  \n",
    "`conda install jupyterlab`\n",
    "\n",
    "You also need to check if you have `jupyter_server` 2.x (and not 1.x). You can check the current server version by running  \n",
    "`jupyter --version`\n",
    "\n",
    "Then create a virtual environment that uses Python 3.11. After activating the environment and going to your desired directory, install Jupyter AI by running:  \n",
    "`pip install jupyter_ai`\n",
    "\n",
    "After these steps, you can check if the Jupyter AI server extension is enabled by running  \n",
    "`jupyter server extension list`\n",
    "\n",
    "And to verify that the frontend extension is also installed, you can run  \n",
    "`jupyter labextension list`  \n",
    "\n",
    "As we want to use OpenAI models in this tutorial, we must also run:  \n",
    "`pip install openai`\n",
    "\n",
    "And then you can start JupyterLab  \n",
    "`jupyter lab`\n",
    "\n",
    "#### Additional step for MacBook M1 users:\n",
    "For some reason, for MacBook M1 specifically, you also need to uninstall `grpcio` package from `pip` and reinstall it with `conda`!  \n",
    "`pip uninstall grpcio; conda install grpcio`\n",
    "\n",
    "### Step 3: Magic!\n",
    "You can use `%%ai` magic to write a prompt, just like you do with ChatGPT. You can specify the language model that you want to use. Example usage:\n",
    "```\n",
    "%%ai chatgpt \n",
    "prompt\n",
    "```\n",
    "t\n"
   ]
  },
  {
   "cell_type": "code",
   "execution_count": 1,
   "id": "8463581b-4bd4-42bc-a2ab-fecfdbda8d8a",
   "metadata": {},
   "outputs": [],
   "source": [
    "%load_ext jupyter_ai\n",
    "import os"
   ]
  },
  {
   "cell_type": "code",
   "execution_count": 4,
   "id": "dbd8a1eb-b930-4110-b47d-295f582dd4b7",
   "metadata": {},
   "outputs": [],
   "source": [
    "#os.environ[\"OPENAI_API_KEY\"]= 'your API key'"
   ]
  },
  {
   "cell_type": "code",
   "execution_count": 8,
   "id": "4263d896-3401-45be-8aa9-2b3dccb6f73f",
   "metadata": {},
   "outputs": [
    {
     "data": {
      "text/markdown": [
       "| Provider | Environment variable | Set? | Models |\n",
       "|----------|----------------------|------|--------|\n",
       "| `ai21` | `AI21_API_KEY` | <abbr title=\"You have not set this environment variable, so you cannot use this provider's models.\">❌</abbr> | `ai21:j1-large`, `ai21:j1-grande`, `ai21:j1-jumbo`, `ai21:j1-grande-instruct`, `ai21:j2-large`, `ai21:j2-grande`, `ai21:j2-jumbo`, `ai21:j2-grande-instruct`, `ai21:j2-jumbo-instruct` |\n",
       "| `bedrock` | Not applicable. | <abbr title=\"Not applicable\">N/A</abbr> | `bedrock:amazon.titan-tg1-large`, `bedrock:anthropic.claude-v1`, `bedrock:anthropic.claude-instant-v1`, `bedrock:anthropic.claude-v2`, `bedrock:ai21.j2-jumbo-instruct`, `bedrock:ai21.j2-grande-instruct` |\n",
       "| `anthropic` | `ANTHROPIC_API_KEY` | <abbr title=\"You have not set this environment variable, so you cannot use this provider's models.\">❌</abbr> | `anthropic:claude-v1`, `anthropic:claude-v1.0`, `anthropic:claude-v1.2`, `anthropic:claude-2`, `anthropic:claude-instant-v1`, `anthropic:claude-instant-v1.0` |\n",
       "| `azure-chat-openai` | `OPENAI_API_KEY` | <abbr title=\"You have set this environment variable, so you can use this provider's models.\">✅</abbr> | This provider does not define a list of models. |\n",
       "| `cohere` | `COHERE_API_KEY` | <abbr title=\"You have not set this environment variable, so you cannot use this provider's models.\">❌</abbr> | `cohere:medium`, `cohere:xlarge` |\n",
       "| `gpt4all` | Not applicable. | <abbr title=\"Not applicable\">N/A</abbr> | `gpt4all:ggml-gpt4all-j-v1.2-jazzy`, `gpt4all:ggml-gpt4all-j-v1.3-groovy`, `gpt4all:ggml-gpt4all-l13b-snoozy` |\n",
       "| `huggingface_hub` | `HUGGINGFACEHUB_API_TOKEN` | <abbr title=\"You have not set this environment variable, so you cannot use this provider's models.\">❌</abbr> | See https://huggingface.co/models for a list of models. Pass a model's repository ID as the model ID; for example, `huggingface_hub:ExampleOwner/example-model`. |\n",
       "| `openai` | `OPENAI_API_KEY` | <abbr title=\"You have set this environment variable, so you can use this provider's models.\">✅</abbr> | `openai:text-davinci-003`, `openai:text-davinci-002`, `openai:text-curie-001`, `openai:text-babbage-001`, `openai:text-ada-001`, `openai:davinci`, `openai:curie`, `openai:babbage`, `openai:ada` |\n",
       "| `openai-chat` | `OPENAI_API_KEY` | <abbr title=\"You have set this environment variable, so you can use this provider's models.\">✅</abbr> | `openai-chat:gpt-3.5-turbo`, `openai-chat:gpt-3.5-turbo-16k`, `openai-chat:gpt-3.5-turbo-0301`, `openai-chat:gpt-3.5-turbo-0613`, `openai-chat:gpt-3.5-turbo-16k-0613`, `openai-chat:gpt-4`, `openai-chat:gpt-4-0314`, `openai-chat:gpt-4-0613`, `openai-chat:gpt-4-32k`, `openai-chat:gpt-4-32k-0314`, `openai-chat:gpt-4-32k-0613` |\n",
       "| `openai-chat-new` | `OPENAI_API_KEY` | <abbr title=\"You have set this environment variable, so you can use this provider's models.\">✅</abbr> | `openai-chat-new:gpt-3.5-turbo`, `openai-chat-new:gpt-3.5-turbo-16k`, `openai-chat-new:gpt-3.5-turbo-0301`, `openai-chat-new:gpt-3.5-turbo-0613`, `openai-chat-new:gpt-3.5-turbo-16k-0613`, `openai-chat-new:gpt-4`, `openai-chat-new:gpt-4-0314`, `openai-chat-new:gpt-4-0613`, `openai-chat-new:gpt-4-32k`, `openai-chat-new:gpt-4-32k-0314`, `openai-chat-new:gpt-4-32k-0613` |\n",
       "| `sagemaker-endpoint` | Not applicable. | <abbr title=\"Not applicable\">N/A</abbr> | Specify an endpoint name as the model ID. In addition, you must include the `--region_name`, `--request_schema`, and the `--response_path` arguments. For more information, see the documentation about [SageMaker endpoints deployment](https://docs.aws.amazon.com/sagemaker/latest/dg/realtime-endpoints-deployment.html) and about [using magic commands with SageMaker endpoints](https://jupyter-ai.readthedocs.io/en/latest/users/index.html#using-magic-commands-with-sagemaker-endpoints). |\n",
       "\n",
       "Aliases and custom commands:\n",
       "\n",
       "| Name | Target |\n",
       "|------|--------|\n",
       "| `gpt2` | `huggingface_hub:gpt2` |\n",
       "| `gpt3` | `openai:text-davinci-003` |\n",
       "| `chatgpt` | `openai-chat:gpt-3.5-turbo` |\n",
       "| `gpt4` | `openai-chat:gpt-4` |\n",
       "| `titan` | `bedrock:amazon.titan-tg1-large` |\n"
      ],
      "text/plain": [
       "ai21\n",
       "Requires environment variable AI21_API_KEY (not set)\n",
       "* ai21:j1-large\n",
       "* ai21:j1-grande\n",
       "* ai21:j1-jumbo\n",
       "* ai21:j1-grande-instruct\n",
       "* ai21:j2-large\n",
       "* ai21:j2-grande\n",
       "* ai21:j2-jumbo\n",
       "* ai21:j2-grande-instruct\n",
       "* ai21:j2-jumbo-instruct\n",
       "\n",
       "bedrock\n",
       "* bedrock:amazon.titan-tg1-large\n",
       "* bedrock:anthropic.claude-v1\n",
       "* bedrock:anthropic.claude-instant-v1\n",
       "* bedrock:anthropic.claude-v2\n",
       "* bedrock:ai21.j2-jumbo-instruct\n",
       "* bedrock:ai21.j2-grande-instruct\n",
       "\n",
       "anthropic\n",
       "Requires environment variable ANTHROPIC_API_KEY (not set)\n",
       "* anthropic:claude-v1\n",
       "* anthropic:claude-v1.0\n",
       "* anthropic:claude-v1.2\n",
       "* anthropic:claude-2\n",
       "* anthropic:claude-instant-v1\n",
       "* anthropic:claude-instant-v1.0\n",
       "\n",
       "azure-chat-openai\n",
       "Requires environment variable OPENAI_API_KEY (set)\n",
       "* This provider does not define a list of models.\n",
       "\n",
       "cohere\n",
       "Requires environment variable COHERE_API_KEY (not set)\n",
       "* cohere:medium\n",
       "* cohere:xlarge\n",
       "\n",
       "gpt4all\n",
       "* gpt4all:ggml-gpt4all-j-v1.2-jazzy\n",
       "* gpt4all:ggml-gpt4all-j-v1.3-groovy\n",
       "* gpt4all:ggml-gpt4all-l13b-snoozy\n",
       "\n",
       "huggingface_hub\n",
       "Requires environment variable HUGGINGFACEHUB_API_TOKEN (not set)\n",
       "* See https://huggingface.co/models for a list of models. Pass a model's repository ID as the model ID; for example, `huggingface_hub:ExampleOwner/example-model`.\n",
       "\n",
       "openai\n",
       "Requires environment variable OPENAI_API_KEY (set)\n",
       "* openai:text-davinci-003\n",
       "* openai:text-davinci-002\n",
       "* openai:text-curie-001\n",
       "* openai:text-babbage-001\n",
       "* openai:text-ada-001\n",
       "* openai:davinci\n",
       "* openai:curie\n",
       "* openai:babbage\n",
       "* openai:ada\n",
       "\n",
       "openai-chat\n",
       "Requires environment variable OPENAI_API_KEY (set)\n",
       "* openai-chat:gpt-3.5-turbo\n",
       "* openai-chat:gpt-3.5-turbo-16k\n",
       "* openai-chat:gpt-3.5-turbo-0301\n",
       "* openai-chat:gpt-3.5-turbo-0613\n",
       "* openai-chat:gpt-3.5-turbo-16k-0613\n",
       "* openai-chat:gpt-4\n",
       "* openai-chat:gpt-4-0314\n",
       "* openai-chat:gpt-4-0613\n",
       "* openai-chat:gpt-4-32k\n",
       "* openai-chat:gpt-4-32k-0314\n",
       "* openai-chat:gpt-4-32k-0613\n",
       "\n",
       "openai-chat-new\n",
       "Requires environment variable OPENAI_API_KEY (set)\n",
       "* openai-chat-new:gpt-3.5-turbo\n",
       "* openai-chat-new:gpt-3.5-turbo-16k\n",
       "* openai-chat-new:gpt-3.5-turbo-0301\n",
       "* openai-chat-new:gpt-3.5-turbo-0613\n",
       "* openai-chat-new:gpt-3.5-turbo-16k-0613\n",
       "* openai-chat-new:gpt-4\n",
       "* openai-chat-new:gpt-4-0314\n",
       "* openai-chat-new:gpt-4-0613\n",
       "* openai-chat-new:gpt-4-32k\n",
       "* openai-chat-new:gpt-4-32k-0314\n",
       "* openai-chat-new:gpt-4-32k-0613\n",
       "\n",
       "sagemaker-endpoint\n",
       "* Specify an endpoint name as the model ID. In addition, you must include the `--region_name`, `--request_schema`, and the `--response_path` arguments. For more information, see the documentation about [SageMaker endpoints deployment](https://docs.aws.amazon.com/sagemaker/latest/dg/realtime-endpoints-deployment.html) and about [using magic commands with SageMaker endpoints](https://jupyter-ai.readthedocs.io/en/latest/users/index.html#using-magic-commands-with-sagemaker-endpoints).\n",
       "\n",
       "\n",
       "Aliases and custom commands:\n",
       "gpt2 - huggingface_hub:gpt2\n",
       "gpt3 - openai:text-davinci-003\n",
       "chatgpt - openai-chat:gpt-3.5-turbo\n",
       "gpt4 - openai-chat:gpt-4\n",
       "titan - bedrock:amazon.titan-tg1-large\n"
      ]
     },
     "execution_count": 8,
     "metadata": {},
     "output_type": "execute_result"
    }
   ],
   "source": [
    "# From this list, you can see which generative models are supported by this extension.\n",
    "%ai list"
   ]
  },
  {
   "cell_type": "code",
   "execution_count": 5,
   "id": "4c6bac96-064d-404d-9afd-1236305afd21",
   "metadata": {
    "scrolled": true
   },
   "outputs": [
    {
     "data": {
      "text/markdown": [
       "```python\n",
       "def add_numbers(num1, num2):\n",
       "    return num1 + num2\n",
       "\n",
       "result = add_numbers(5, 7)\n",
       "print(result)  # Output: 12\n",
       "```"
      ],
      "text/plain": [
       "<IPython.core.display.Markdown object>"
      ]
     },
     "execution_count": 5,
     "metadata": {
      "text/markdown": {
       "jupyter_ai": {
        "model_id": "gpt-3.5-turbo",
        "provider_id": "openai-chat"
       }
      }
     },
     "output_type": "execute_result"
    }
   ],
   "source": [
    "%%ai chatgpt\n",
    "Please write a python function that adds two numbers"
   ]
  },
  {
   "cell_type": "markdown",
   "id": "9ab025bb-50be-47c4-ab24-93d191552e04",
   "metadata": {},
   "source": [
    "## More Options\n",
    "If you only want a code with no explanations, then type:\n",
    "```\n",
    "%%ai chatgpt -f code\n",
    "prompt\n",
    "```\n",
    "Possible inputs for after -f:  \n",
    "`code`, `image`, `markdown`, `math`, `html`, `json`, `text`\n"
   ]
  },
  {
   "cell_type": "code",
   "execution_count": 7,
   "id": "6e4dd86e-bfa1-480f-a27b-76f2bc79042a",
   "metadata": {},
   "outputs": [
    {
     "data": {
      "text/html": [
       "AI generated code inserted below &#11015;&#65039;"
      ],
      "text/plain": [
       "<IPython.core.display.HTML object>"
      ]
     },
     "execution_count": 7,
     "metadata": {
      "text/html": {
       "jupyter_ai": {
        "model_id": "gpt-3.5-turbo",
        "provider_id": "openai-chat"
       }
      }
     },
     "output_type": "execute_result"
    }
   ],
   "source": [
    "%%ai chatgpt -f code\n",
    "Please write a python function that adds two numbers"
   ]
  },
  {
   "cell_type": "code",
   "execution_count": null,
   "id": "05f5cdf8-8c49-4f0c-8e72-92528ef75d46",
   "metadata": {},
   "outputs": [],
   "source": [
    "def add_numbers(num1, num2):\n",
    "    return num1 + num2\n",
    "\n",
    "result = add_numbers(5, 7)\n",
    "print(result)"
   ]
  },
  {
   "cell_type": "code",
   "execution_count": 11,
   "id": "05613bad-32f4-412b-b54e-4f9c5dc9653d",
   "metadata": {},
   "outputs": [
    {
     "data": {
      "text/html": [
       "AI generated code inserted below &#11015;&#65039;"
      ],
      "text/plain": [
       "<IPython.core.display.HTML object>"
      ]
     },
     "execution_count": 11,
     "metadata": {
      "text/html": {
       "jupyter_ai": {
        "model_id": "gpt-3.5-turbo",
        "provider_id": "openai-chat"
       }
      }
     },
     "output_type": "execute_result"
    }
   ],
   "source": [
    "%%ai chatgpt -f code\n",
    "Please write a python code for making a Vanilla GAN"
   ]
  },
  {
   "cell_type": "code",
   "execution_count": 10,
   "id": "6a1a3cd0-cc39-49e9-a099-14bcc1b60b02",
   "metadata": {},
   "outputs": [
    {
     "name": "stdout",
     "output_type": "stream",
     "text": [
      "Epoch 1/50, Generator Loss: 0.7849550843238831, Discriminator Loss: 1.2059400081634521\n",
      "Epoch 2/50, Generator Loss: 0.9497871398925781, Discriminator Loss: 1.1000601053237915\n",
      "Epoch 3/50, Generator Loss: 0.9503443241119385, Discriminator Loss: 1.0383858680725098\n",
      "Epoch 4/50, Generator Loss: 1.0546131134033203, Discriminator Loss: 1.28377103805542\n",
      "Epoch 5/50, Generator Loss: 0.7930779457092285, Discriminator Loss: 1.3816187381744385\n",
      "Epoch 6/50, Generator Loss: 0.7961018085479736, Discriminator Loss: 1.3201305866241455\n",
      "Epoch 7/50, Generator Loss: 0.9762921929359436, Discriminator Loss: 1.1363203525543213\n",
      "Epoch 8/50, Generator Loss: 0.7849274277687073, Discriminator Loss: 1.2409355640411377\n",
      "Epoch 9/50, Generator Loss: 0.8970034122467041, Discriminator Loss: 1.2248682975769043\n",
      "Epoch 10/50, Generator Loss: 0.7353546619415283, Discriminator Loss: 1.4817121028900146\n",
      "Epoch 11/50, Generator Loss: 0.6696476936340332, Discriminator Loss: 1.544273853302002\n",
      "Epoch 12/50, Generator Loss: 1.0799696445465088, Discriminator Loss: 1.1996853351593018\n",
      "Epoch 13/50, Generator Loss: 1.0026886463165283, Discriminator Loss: 1.2690809965133667\n",
      "Epoch 14/50, Generator Loss: 1.20638108253479, Discriminator Loss: 1.0887892246246338\n",
      "Epoch 15/50, Generator Loss: 0.6995925307273865, Discriminator Loss: 1.4576166868209839\n",
      "Epoch 16/50, Generator Loss: 0.9577232003211975, Discriminator Loss: 1.193244218826294\n",
      "Epoch 17/50, Generator Loss: 0.9146455526351929, Discriminator Loss: 1.4330976009368896\n",
      "Epoch 18/50, Generator Loss: 1.1430518627166748, Discriminator Loss: 1.1606186628341675\n",
      "Epoch 19/50, Generator Loss: 1.1872988939285278, Discriminator Loss: 1.0347065925598145\n",
      "Epoch 20/50, Generator Loss: 1.315962314605713, Discriminator Loss: 0.8840190172195435\n",
      "Epoch 21/50, Generator Loss: 1.0329035520553589, Discriminator Loss: 1.077232837677002\n",
      "Epoch 22/50, Generator Loss: 0.9858477115631104, Discriminator Loss: 1.5650954246520996\n",
      "Epoch 23/50, Generator Loss: 1.0844359397888184, Discriminator Loss: 1.1546788215637207\n",
      "Epoch 24/50, Generator Loss: 1.2765288352966309, Discriminator Loss: 0.9834893941879272\n",
      "Epoch 25/50, Generator Loss: 1.3357665538787842, Discriminator Loss: 0.8761742115020752\n",
      "Epoch 26/50, Generator Loss: 1.4657400846481323, Discriminator Loss: 1.0340802669525146\n",
      "Epoch 27/50, Generator Loss: 1.293262004852295, Discriminator Loss: 0.9892625212669373\n",
      "Epoch 28/50, Generator Loss: 1.1275547742843628, Discriminator Loss: 1.2512292861938477\n",
      "Epoch 29/50, Generator Loss: 1.066583275794983, Discriminator Loss: 1.16990327835083\n",
      "Epoch 30/50, Generator Loss: 1.1411223411560059, Discriminator Loss: 1.0158127546310425\n",
      "Epoch 31/50, Generator Loss: 1.1107254028320312, Discriminator Loss: 1.1791529655456543\n",
      "Epoch 32/50, Generator Loss: 1.2202422618865967, Discriminator Loss: 0.974988579750061\n",
      "Epoch 33/50, Generator Loss: 0.9855539202690125, Discriminator Loss: 1.1893686056137085\n",
      "Epoch 34/50, Generator Loss: 1.2131414413452148, Discriminator Loss: 0.9176071882247925\n",
      "Epoch 35/50, Generator Loss: 1.2113347053527832, Discriminator Loss: 1.0056991577148438\n",
      "Epoch 36/50, Generator Loss: 1.0372620820999146, Discriminator Loss: 1.1776037216186523\n",
      "Epoch 37/50, Generator Loss: 1.0725517272949219, Discriminator Loss: 1.1576182842254639\n",
      "Epoch 38/50, Generator Loss: 1.035658597946167, Discriminator Loss: 1.1400115489959717\n",
      "Epoch 39/50, Generator Loss: 1.025150179862976, Discriminator Loss: 1.1479988098144531\n",
      "Epoch 40/50, Generator Loss: 0.9721799492835999, Discriminator Loss: 1.2412042617797852\n",
      "Epoch 41/50, Generator Loss: 1.1860690116882324, Discriminator Loss: 0.9711475968360901\n",
      "Epoch 42/50, Generator Loss: 1.0564502477645874, Discriminator Loss: 1.1895806789398193\n",
      "Epoch 43/50, Generator Loss: 0.9249780178070068, Discriminator Loss: 1.2156858444213867\n",
      "Epoch 44/50, Generator Loss: 0.9396875500679016, Discriminator Loss: 1.2552528381347656\n",
      "Epoch 45/50, Generator Loss: 1.0168750286102295, Discriminator Loss: 1.0691726207733154\n",
      "Epoch 46/50, Generator Loss: 0.9642314910888672, Discriminator Loss: 1.1931178569793701\n",
      "Epoch 47/50, Generator Loss: 0.7590522766113281, Discriminator Loss: 1.2573093175888062\n",
      "Epoch 48/50, Generator Loss: 0.8956054449081421, Discriminator Loss: 1.3785603046417236\n",
      "Epoch 49/50, Generator Loss: 0.9363569021224976, Discriminator Loss: 1.2881442308425903\n",
      "Epoch 50/50, Generator Loss: 0.9972376823425293, Discriminator Loss: 1.2172520160675049\n"
     ]
    },
    {
     "data": {
      "image/png": "[encoded data removed]",
      "text/plain": [
       "<Figure size 400x400 with 16 Axes>"
      ]
     },
     "metadata": {},
     "output_type": "display_data"
    }
   ],
   "source": [
    "import tensorflow as tf\n",
    "from tensorflow.keras import layers\n",
    "\n",
    "# Generator\n",
    "def make_generator_model():\n",
    "    model = tf.keras.Sequential()\n",
    "    model.add(layers.Dense(7*7*256, use_bias=False, input_shape=(100,)))\n",
    "    model.add(layers.BatchNormalization())\n",
    "    model.add(layers.LeakyReLU())\n",
    "\n",
    "    model.add(layers.Reshape((7, 7, 256)))\n",
    "    assert model.output_shape == (None, 7, 7, 256) \n",
    "\n",
    "    model.add(layers.Conv2DTranspose(128, (5, 5), strides=(1, 1), padding='same', use_bias=False))\n",
    "    assert model.output_shape == (None, 7, 7, 128)\n",
    "    model.add(layers.BatchNormalization())\n",
    "    model.add(layers.LeakyReLU())\n",
    "\n",
    "    model.add(layers.Conv2DTranspose(64, (5, 5), strides=(2, 2), padding='same', use_bias=False))\n",
    "    assert model.output_shape == (None, 14, 14, 64)\n",
    "    model.add(layers.BatchNormalization())\n",
    "    model.add(layers.LeakyReLU())\n",
    "\n",
    "    model.add(layers.Conv2DTranspose(1, (5, 5), strides=(2, 2), padding='same', use_bias=False, activation='tanh'))\n",
    "    assert model.output_shape == (None, 28, 28, 1)\n",
    "\n",
    "    return model\n",
    "\n",
    "# Discriminator\n",
    "def make_discriminator_model():\n",
    "    model = tf.keras.Sequential()\n",
    "    model.add(layers.Conv2D(64, (5, 5), strides=(2, 2), padding='same', input_shape=[28, 28, 1]))\n",
    "    model.add(layers.LeakyReLU())\n",
    "    model.add(layers.Dropout(0.3))\n",
    "\n",
    "    model.add(layers.Conv2D(128, (5, 5), strides=(2, 2), padding='same'))\n",
    "    model.add(layers.LeakyReLU())\n",
    "    model.add(layers.Dropout(0.3))\n",
    "\n",
    "    model.add(layers.Flatten())\n",
    "    model.add(layers.Dense(1))\n",
    "\n",
    "    return model\n",
    "\n",
    "# Define loss functions\n",
    "cross_entropy = tf.keras.losses.BinaryCrossentropy(from_logits=True)\n",
    "\n",
    "# Generator loss\n",
    "def generator_loss(fake_output):\n",
    "    return cross_entropy(tf.ones_like(fake_output), fake_output)\n",
    "\n",
    "# Discriminator loss\n",
    "def discriminator_loss(real_output, fake_output):\n",
    "    real_loss = cross_entropy(tf.ones_like(real_output), real_output)\n",
    "    fake_loss = cross_entropy(tf.zeros_like(fake_output), fake_output)\n",
    "    total_loss = real_loss + fake_loss\n",
    "    return total_loss\n",
    "\n",
    "# Define optimizer\n",
    "generator_optimizer = tf.keras.optimizers.Adam(1e-4)\n",
    "discriminator_optimizer = tf.keras.optimizers.Adam(1e-4)\n",
    "\n",
    "# Training loop\n",
    "@tf.function\n",
    "def train_step(images):\n",
    "    noise = tf.random.normal([BATCH_SIZE, 100])\n",
    "  \n",
    "    with tf.GradientTape() as gen_tape, tf.GradientTape() as disc_tape:\n",
    "        generated_images = generator(noise, training=True)\n",
    "    \n",
    "        real_output = discriminator(images, training=True)\n",
    "        fake_output = discriminator(generated_images, training=True)\n",
    "\n",
    "        gen_loss = generator_loss(fake_output)\n",
    "        disc_loss = discriminator_loss(real_output, fake_output)\n",
    "    \n",
    "    gradients_of_generator = gen_tape.gradient(gen_loss, generator.trainable_variables)\n",
    "    gradients_of_discriminator = disc_tape.gradient(disc_loss, discriminator.trainable_variables)\n",
    "  \n",
    "    generator_optimizer.apply_gradients(zip(gradients_of_generator, generator.trainable_variables))\n",
    "    discriminator_optimizer.apply_gradients(zip(gradients_of_discriminator, discriminator.trainable_variables))\n",
    " \n",
    "    return gen_loss, disc_loss\n",
    "\n",
    "# Create generator and discriminator\n",
    "generator = make_generator_model()\n",
    "discriminator = make_discriminator_model()\n",
    "\n",
    "# Load data, preprocess and shuffle it\n",
    "(train_images, train_labels), (_, _) = tf.keras.datasets.mnist.load_data()\n",
    "train_images = train_images.reshape(train_images.shape[0], 28, 28, 1).astype('float32')\n",
    "train_images = (train_images - 127.5) / 127.5\n",
    "BUFFER_SIZE = 60000\n",
    "BATCH_SIZE = 256\n",
    "train_dataset = tf.data.Dataset.from_tensor_slices(train_images).shuffle(BUFFER_SIZE).batch(BATCH_SIZE)\n",
    "\n",
    "# Train model\n",
    "EPOCHS = 50\n",
    "for epoch in range(EPOCHS):\n",
    "    for image_batch in train_dataset:\n",
    "        gen_loss, disc_loss = train_step(image_batch)\n",
    "  \n",
    "    print(f'Epoch {epoch + 1}/{EPOCHS}, Generator Loss: {gen_loss}, Discriminator Loss: {disc_loss}')\n",
    "\n",
    "# Generate images\n",
    "import matplotlib.pyplot as plt\n",
    "\n",
    "def generate_and_save_images(model, epoch, test_input):\n",
    "    predictions = model(test_input, training=False)\n",
    "  \n",
    "    fig = plt.figure(figsize=(4, 4))\n",
    "  \n",
    "    for i in range(predictions.shape[0]):\n",
    "        plt.subplot(4, 4, i+1)\n",
    "        plt.imshow(predictions[i, :, :, 0] * 127.5 + 127.5, cmap='gray')\n",
    "        plt.axis('off')\n",
    "  \n",
    "    plt.savefig(f'image_at_epoch_{epoch}.png')\n",
    "    plt.show()\n",
    "\n",
    "# Generate and save some random images\n",
    "seed = tf.random.normal([16, 100])\n",
    "generate_and_save_images(generator, EPOCHS, seed)"
   ]
  },
  {
   "cell_type": "markdown",
   "id": "f3993879-249f-41c2-9248-0e06526b1895",
   "metadata": {},
   "source": [
    "## Chat Panel\n",
    "The first time you open the chat interface, Jupyter AI will ask you which models you want to use as a language model and as an embedding model. Once you have made your selections, the UI may display text boxes for one or more settings keys.\n",
    "\n",
    "Once you have sent a message, you should see a response from Jupyternaut, the Jupyter AI chatbot. The chat backend remembers the last two exchanges in your conversation and passes them to the language model. You can ask follow up questions without repeating information from your previous conversations.\n",
    "\n",
    "### Asking about something in your notebook  \n",
    "Jupyter AI’s chat interface can include a portion of your notebook in your prompt. After highlighting a portion of your notebook, check “Include selection” in the chat panel, type your message, and then send your message. Your outgoing message will include your selection.\n",
    "\n",
    "### Generating a new notebook\n",
    "You can use Jupyter AI to generate an entire notebook from a text prompt. To get started, open the chat panel, and send it a message starting with `/generate`. When Jupyter AI is done generating your notebook, it will send you another message with the filename that it generated. You can then open this file using the file browser.\n",
    "\n",
    "I made an example by typing  \n",
    "```\n",
    "/generate Please create a tutorial notebook to show how to use gradio library.\n",
    "```  \n",
    "and you can see the generated notebook.\n",
    "\n",
    "### Learning about local data\n",
    "Using the `/learn` command, you can teach Jupyter AI about local data so that Jupyternaut can include it when answering your questions. This local data is embedded using the embedding model you selected in the settings panel.  \n",
    "To teach Jupyter AI about a folder full of documentation, for example, run `/learn docs/`. You will receive a response when Jupyter AI has indexed this documentation in a local vector database.  \n",
    "You can then use `/ask` to ask a question specifically about the data that you taught Jupyter AI with `/learn`.\n"
   ]
  }
 ],
 "metadata": {
  "kernelspec": {
   "display_name": "Python 3 (ipykernel)",
   "language": "python",
   "name": "python3"
  },
  "language_info": {
   "codemirror_mode": {
    "name": "ipython",
    "version": 3
   },
   "file_extension": ".py",
   "mimetype": "text/x-python",
   "name": "python",
   "nbconvert_exporter": "python",
   "pygments_lexer": "ipython3",
   "version": "3.10.13"
  }
 },
 "nbformat": 4,
 "nbformat_minor": 5
}
